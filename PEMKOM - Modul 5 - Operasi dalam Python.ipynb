{
 "cells": [
  {
   "cell_type": "markdown",
   "metadata": {},
   "source": [
    "Latihan"
   ]
  },
  {
   "cell_type": "markdown",
   "metadata": {},
   "source": [
    "1. Apabila terdapat sebuah matriks berukuran 3x3 yang beranggotakan bilangan real, buatlah syntax untuk membuat sebuah tuple yang beranggotakan hasil bagi antara elemen-elemen baris pertama dengan elemen-elemen baris ketiga."
   ]
  },
  {
   "cell_type": "code",
   "execution_count": 37,
   "metadata": {},
   "outputs": [
    {
     "name": "stdout",
     "output_type": "stream",
     "text": [
      "(0.25, 0.3333333333333333, 0.4)\n"
     ]
    },
    {
     "data": {
      "text/plain": [
       "tuple"
      ]
     },
     "execution_count": 37,
     "metadata": {},
     "output_type": "execute_result"
    }
   ],
   "source": [
    "mat = [[2.,3.,4.],\n",
    "         [5.,6.,7.],\n",
    "         [8.,9.,10.]]\n",
    "tup = (((mat[0][0])/(mat[2][0])),\n",
    "          ((mat[0][1])/(mat[2][1])),\n",
    "          ((mat[0][2])/(mat[2][2])))\n",
    "print(tup)\n",
    "type(tup)"
   ]
  },
  {
   "cell_type": "markdown",
   "metadata": {},
   "source": [
    "2. Buatlah syntax sederhana untuk menghitung nilai rata-rata pretest dan posttest dengan tidak menggunakan lebih dari dua variabel assignment. Tampilkan hasilnya dalam bentuk bilangan cacah"
   ]
  },
  {
   "cell_type": "code",
   "execution_count": 39,
   "metadata": {},
   "outputs": [
    {
     "name": "stdout",
     "output_type": "stream",
     "text": [
      "67\n"
     ]
    }
   ],
   "source": [
    "# jawab\n",
    "pretest, posttest = 65, 70\n",
    "pretest += posttest\n",
    "pretest /= 2\n",
    "print(int(pretest))"
   ]
  },
  {
   "cell_type": "markdown",
   "metadata": {},
   "source": [
    "Tugas"
   ]
  },
  {
   "cell_type": "markdown",
   "metadata": {},
   "source": [
    "1. Diketahui Z merupakan variabel acak berdistribusi poisson dengan parameter lambda. Apabila P(Z=0)=0.4, maka hitunglah nilai dari P(Z=2). (Catatan: cetak hasil dengan dua angka di belakang koma)"
   ]
  },
  {
   "cell_type": "code",
   "execution_count": 31,
   "metadata": {},
   "outputs": [
    {
     "data": {
      "text/plain": [
       "0.17"
      ]
     },
     "execution_count": 31,
     "metadata": {},
     "output_type": "execute_result"
    }
   ],
   "source": [
    "# Jawab\n",
    "import numpy as np\n",
    "# Step 1 : cari nilai lambda\n",
    "lb = -(np.log(0.4))\n",
    "result = ((lb**2)*(np.exp(-lb)))/np.math.factorial(2)\n",
    "round(result,2)"
   ]
  }
 ],
 "metadata": {
  "kernelspec": {
   "display_name": "Python 3",
   "language": "python",
   "name": "python3"
  },
  "language_info": {
   "codemirror_mode": {
    "name": "ipython",
    "version": 3
   },
   "file_extension": ".py",
   "mimetype": "text/x-python",
   "name": "python",
   "nbconvert_exporter": "python",
   "pygments_lexer": "ipython3",
   "version": "3.7.3"
  }
 },
 "nbformat": 4,
 "nbformat_minor": 2
}
