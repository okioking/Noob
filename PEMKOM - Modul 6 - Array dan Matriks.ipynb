{
 "cells": [
  {
   "cell_type": "markdown",
   "metadata": {},
   "source": [
    "Latihan"
   ]
  },
  {
   "cell_type": "markdown",
   "metadata": {},
   "source": [
    "1.\tBuatlah sebuah array yang beranggotakan semua bilangan ganjil yang nilainya kurang dari 100 dengan menggunakan module numpy"
   ]
  },
  {
   "cell_type": "code",
   "execution_count": 1,
   "metadata": {},
   "outputs": [
    {
     "data": {
      "text/plain": [
       "array([ 1,  3,  5,  7,  9, 11, 13, 15, 17, 19, 21, 23, 25, 27, 29, 31, 33,\n",
       "       35, 37, 39, 41, 43, 45, 47, 49, 51, 53, 55, 57, 59, 61, 63, 65, 67,\n",
       "       69, 71, 73, 75, 77, 79, 81, 83, 85, 87, 89, 91, 93, 95, 97, 99])"
      ]
     },
     "execution_count": 1,
     "metadata": {},
     "output_type": "execute_result"
    }
   ],
   "source": [
    "import numpy as np\n",
    "arr = np.arange(1,100,2) ; arr"
   ]
  },
  {
   "cell_type": "markdown",
   "metadata": {},
   "source": [
    "2.\tBuatlah sebuah matriks hasil konversi array No (1) dengan jumlah baris lebih banyak daripada jumlah kolom, lalu hitunglah jumlah total dari tiap baris matriks tersebut"
   ]
  },
  {
   "cell_type": "code",
   "execution_count": 30,
   "metadata": {},
   "outputs": [
    {
     "name": "stdout",
     "output_type": "stream",
     "text": [
      "[[ 1  3  5  7  9]\n",
      " [11 13 15 17 19]\n",
      " [21 23 25 27 29]\n",
      " [31 33 35 37 39]\n",
      " [41 43 45 47 49]\n",
      " [51 53 55 57 59]\n",
      " [61 63 65 67 69]\n",
      " [71 73 75 77 79]\n",
      " [81 83 85 87 89]\n",
      " [91 93 95 97 99]]\n"
     ]
    },
    {
     "data": {
      "text/plain": [
       "matrix([[ 25],\n",
       "        [ 75],\n",
       "        [125],\n",
       "        [175],\n",
       "        [225],\n",
       "        [275],\n",
       "        [325],\n",
       "        [375],\n",
       "        [425],\n",
       "        [475]])"
      ]
     },
     "execution_count": 30,
     "metadata": {},
     "output_type": "execute_result"
    }
   ],
   "source": [
    "mat = np.matrix(arr).reshape(10,5)\n",
    "print(mat)\n",
    "np.sum(mat,axis=1)"
   ]
  },
  {
   "cell_type": "markdown",
   "metadata": {},
   "source": [
    "Tugas"
   ]
  },
  {
   "cell_type": "markdown",
   "metadata": {},
   "source": [
    "1. Berikut merupakan tabel jarak antara Kota A,B,C,D, dan E dalam satuan kilometer"
   ]
  },
  {
   "attachments": {
    "Screenshot_27.png": {
     "image/png": "[encoded data removed]"
    }
   },
   "cell_type": "markdown",
   "metadata": {},
   "source": [
    "![Screenshot_27.png](attachment:Screenshot_27.png)"
   ]
  },
  {
   "cell_type": "markdown",
   "metadata": {},
   "source": [
    "(a)Buatlah matriks jarak berdasarkan tabel diatas menggunakan module numpy.\n",
    "(b)Apabila diketahui antara Kota F dengan Kota A berjarak 7 Km sementara jarak Kota F dengan kota lainnya berjarak 1 Km, update matriks (a) dengan penambahan variabel Kota F"
   ]
  },
  {
   "cell_type": "code",
   "execution_count": 35,
   "metadata": {},
   "outputs": [
    {
     "data": {
      "text/plain": [
       "matrix([[ 0, 15, 12,  7,  6],\n",
       "        [15,  0,  9,  6,  2],\n",
       "        [12,  9,  0,  8,  3],\n",
       "        [ 7,  6,  8,  0, 11],\n",
       "        [ 6,  2,  3, 11,  0]])"
      ]
     },
     "execution_count": 35,
     "metadata": {},
     "output_type": "execute_result"
    }
   ],
   "source": [
    "### Jawab\n",
    "## a\n",
    "jarak = np.matrix([[0,15,12,7,6],\n",
    "                  [15,0,9,6,2],\n",
    "                  [12,9,0,8,3],\n",
    "                  [7,6,8,0,11],\n",
    "                  [6,2,3,11,0]])\n",
    "jarak"
   ]
  },
  {
   "cell_type": "code",
   "execution_count": 43,
   "metadata": {},
   "outputs": [
    {
     "data": {
      "text/plain": [
       "matrix([[ 0, 15, 12,  7,  6],\n",
       "        [15,  0,  9,  6,  2],\n",
       "        [12,  9,  0,  8,  3],\n",
       "        [ 7,  6,  8,  0, 11],\n",
       "        [ 6,  2,  3, 11,  0],\n",
       "        [ 7,  1,  1,  1,  1]])"
      ]
     },
     "execution_count": 43,
     "metadata": {},
     "output_type": "execute_result"
    }
   ],
   "source": [
    "## b\n",
    "jf = np.array([7,1,1,1,1])\n",
    "jarak_update = np.vstack((jarak,jf)) ; jarak_update"
   ]
  },
  {
   "cell_type": "code",
   "execution_count": 48,
   "metadata": {},
   "outputs": [
    {
     "data": {
      "text/plain": [
       "array([[7],\n",
       "       [1],\n",
       "       [1],\n",
       "       [1],\n",
       "       [1],\n",
       "       [0]])"
      ]
     },
     "execution_count": 48,
     "metadata": {},
     "output_type": "execute_result"
    }
   ],
   "source": [
    "jf_trans = np.reshape(jf,(5,1))\n",
    "jf_trans = np.vstack((jf_trans,0)) ; jf_trans"
   ]
  },
  {
   "cell_type": "code",
   "execution_count": 51,
   "metadata": {},
   "outputs": [
    {
     "data": {
      "text/plain": [
       "matrix([[ 0, 15, 12,  7,  6,  7,  7],\n",
       "        [15,  0,  9,  6,  2,  1,  1],\n",
       "        [12,  9,  0,  8,  3,  1,  1],\n",
       "        [ 7,  6,  8,  0, 11,  1,  1],\n",
       "        [ 6,  2,  3, 11,  0,  1,  1],\n",
       "        [ 7,  1,  1,  1,  1,  0,  0]])"
      ]
     },
     "execution_count": 51,
     "metadata": {},
     "output_type": "execute_result"
    }
   ],
   "source": [
    "# tidak bisa renaming index kecuali dalam format pandas\n",
    "jarak_update = np.hstack((jarak_update,jf_trans)) ; jarak_update"
   ]
  }
 ],
 "metadata": {
  "kernelspec": {
   "display_name": "Python 3",
   "language": "python",
   "name": "python3"
  },
  "language_info": {
   "codemirror_mode": {
    "name": "ipython",
    "version": 3
   },
   "file_extension": ".py",
   "mimetype": "text/x-python",
   "name": "python",
   "nbconvert_exporter": "python",
   "pygments_lexer": "ipython3",
   "version": "3.7.3"
  }
 },
 "nbformat": 4,
 "nbformat_minor": 2
}
