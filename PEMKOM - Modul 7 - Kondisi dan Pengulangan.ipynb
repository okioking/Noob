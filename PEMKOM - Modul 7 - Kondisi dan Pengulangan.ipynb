{
 "cells": [
  {
   "cell_type": "markdown",
   "metadata": {},
   "source": [
    "Latihan Pa Bertho"
   ]
  },
  {
   "cell_type": "markdown",
   "metadata": {},
   "source": [
    "1.Buat program menentukan huruf mutu nilai mata kuliah Dasar-dasar Pemrograman dengan kriteria sebagai berikut:\n",
    "Nilai >= 80 : A\n",
    "68 <=  nilai < 80 : B\n",
    "55 <= nilai < 68 : C\n",
    "40 <= nilai < 55 : D\n",
    "nilai  < 40 : E"
   ]
  },
  {
   "cell_type": "code",
   "execution_count": 5,
   "metadata": {},
   "outputs": [
    {
     "name": "stdout",
     "output_type": "stream",
     "text": [
      "Masukan nilai anda : 74\n",
      "Huruf Mutu = B\n"
     ]
    }
   ],
   "source": [
    "nilai = int(input('Masukan nilai anda : '))\n",
    "if nilai>0 or nilai<100:\n",
    "    if nilai>=80:\n",
    "        print('Huruf Mutu = A')\n",
    "    else:\n",
    "        if nilai>=68:\n",
    "            print('Huruf Mutu = B')\n",
    "        else:\n",
    "            if nilai>=55:\n",
    "                print('Huruf Mutu = C')\n",
    "            else:\n",
    "                if nilai>=40:\n",
    "                    print('Huruf Mutu = D')\n",
    "                else:\n",
    "                    print('Huruf Mutu = E')\n",
    "else:\n",
    "    print('Nilai < 0 atau > 100')"
   ]
  },
  {
   "cell_type": "markdown",
   "metadata": {},
   "source": [
    "2.Buatlah program untuk menghitung faktorial sebuah bilangan bulat. Input : bilangan bulat positif. Output : faktorialnya. Rumus faktorial adalah sebagai berikut"
   ]
  },
  {
   "cell_type": "code",
   "execution_count": 10,
   "metadata": {},
   "outputs": [
    {
     "name": "stdout",
     "output_type": "stream",
     "text": [
      "Faktorial : 5\n",
      "120\n"
     ]
    }
   ],
   "source": [
    "import numpy as np\n",
    "x = int(input('Faktorial : '))\n",
    "fak=1\n",
    "for i in np.arange(1,x+1):\n",
    "    fak = fak*i\n",
    "    i = i+1\n",
    "print(fak)"
   ]
  },
  {
   "cell_type": "markdown",
   "metadata": {},
   "source": [
    "3.Buatlah sebuah program untuk mengurutkan n buah data"
   ]
  },
  {
   "cell_type": "code",
   "execution_count": 13,
   "metadata": {},
   "outputs": [
    {
     "name": "stdout",
     "output_type": "stream",
     "text": [
      "5 88 9 4 6 106\n",
      "[4, 5, 6, 9, 88, 106]\n"
     ]
    }
   ],
   "source": [
    "import numpy as np\n",
    "x = [int(a) for a in input().split()]\n",
    "for i in range(len(x)-1):\n",
    "    for j in np.arange(i,len(x)):\n",
    "        a=x[i]\n",
    "        b=x[j]\n",
    "        if a > b:\n",
    "            temp=x[i]\n",
    "            x[i]=x[j]\n",
    "            x[j]=temp\n",
    "print(x)"
   ]
  },
  {
   "cell_type": "markdown",
   "metadata": {},
   "source": [
    "Tugas"
   ]
  },
  {
   "cell_type": "markdown",
   "metadata": {},
   "source": [
    "1.Diketahui Z merupakan variabel acak berdistribusi poisson. Buatlah syntax sederhana menggunakan fungsi pengulangan for untuk menghitung P(Z=3) dengan lambda merupakan angka-angka genap diantara 1 dan 10"
   ]
  },
  {
   "cell_type": "code",
   "execution_count": 8,
   "metadata": {},
   "outputs": [
    {
     "name": "stdout",
     "output_type": "stream",
     "text": [
      "P(Z=3) dengan lambda 2 adalah 0.1804470443154836\n",
      "P(Z=3) dengan lambda 4 adalah 0.19536681481316456\n",
      "P(Z=3) dengan lambda 6 adalah 0.08923507835998891\n",
      "P(Z=3) dengan lambda 8 adalah 0.02862614424768101\n"
     ]
    }
   ],
   "source": [
    "import numpy as np\n",
    "\n",
    "lb = np.arange(2,10,2) ; lb\n",
    "for i in lb:\n",
    "    hasil = ((i**3)*(np.exp(-i)))/np.math.factorial(3)\n",
    "    print('P(Z=3) dengan lambda',i,'adalah',hasil)"
   ]
  },
  {
   "cell_type": "markdown",
   "metadata": {},
   "source": [
    "2.Suatu desa memiliki sebuah bak kosong tempat penampungan air berkapasitas 100 L. Seorang warga mengisi bak tersebut dengan air yang berasal dari sungai menggunakan ember dengan kapasitas 1 L. Apabila dalam setiap balikan ke sungai, warga tersebut mengajak satu warga lainnya untuk membantu mengisi bak tersebut menggunakan ember yang lain, maka pada balikan ke berapakah kondisi bak terisi melebihi 90% dari kapasitasnya."
   ]
  },
  {
   "cell_type": "code",
   "execution_count": 14,
   "metadata": {},
   "outputs": [
    {
     "name": "stdout",
     "output_type": "stream",
     "text": [
      "\n",
      "Pada pengisian ke 0\n",
      "bak akan berisi 0 liter air\n",
      "\n",
      "Pada pengisian ke 1\n",
      "bak akan berisi 1 liter air\n",
      "\n",
      "Pada pengisian ke 2\n",
      "bak akan berisi 3 liter air\n",
      "\n",
      "Pada pengisian ke 3\n",
      "bak akan berisi 6 liter air\n",
      "\n",
      "Pada pengisian ke 4\n",
      "bak akan berisi 10 liter air\n",
      "\n",
      "Pada pengisian ke 5\n",
      "bak akan berisi 15 liter air\n",
      "\n",
      "Pada pengisian ke 6\n",
      "bak akan berisi 21 liter air\n",
      "\n",
      "Pada pengisian ke 7\n",
      "bak akan berisi 28 liter air\n",
      "\n",
      "Pada pengisian ke 8\n",
      "bak akan berisi 36 liter air\n",
      "\n",
      "Pada pengisian ke 9\n",
      "bak akan berisi 45 liter air\n",
      "\n",
      "Pada pengisian ke 10\n",
      "bak akan berisi 55 liter air\n",
      "\n",
      "Pada pengisian ke 11\n",
      "bak akan berisi 66 liter air\n",
      "\n",
      "Pada pengisian ke 12\n",
      "bak akan berisi 78 liter air\n",
      "\n",
      "Pada pengisian ke 13\n",
      "bak akan berisi 91 liter air\n",
      "\n",
      "Pada pengisian ke 14\n",
      "bak akan berisi 105 liter air\n"
     ]
    }
   ],
   "source": [
    "bak = 0\n",
    "ember = 0\n",
    "while bak < 100 :\n",
    "    bak = bak + ember\n",
    "    print('\\nPada pengisian ke',ember)\n",
    "    print('bak akan berisi',bak,'liter air')\n",
    "    ember += 1"
   ]
  }
 ],
 "metadata": {
  "kernelspec": {
   "display_name": "Python 3",
   "language": "python",
   "name": "python3"
  },
  "language_info": {
   "codemirror_mode": {
    "name": "ipython",
    "version": 3
   },
   "file_extension": ".py",
   "mimetype": "text/x-python",
   "name": "python",
   "nbconvert_exporter": "python",
   "pygments_lexer": "ipython3",
   "version": "3.7.3"
  }
 },
 "nbformat": 4,
 "nbformat_minor": 2
}
